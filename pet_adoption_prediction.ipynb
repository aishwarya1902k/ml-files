{
  "cells": [
    {
      "cell_type": "markdown",
      "metadata": {
        "id": "6INgJ0m8IWex"
      },
      "source": [
        "importing libraries"
      ]
    },
    {
      "cell_type": "code",
      "execution_count": 3,
      "metadata": {
        "id": "kKd8zll_IduH"
      },
      "outputs": [],
      "source": [
        "import pandas as pd\n",
        "import numpy as np\n",
        "import matplotlib.pyplot as plt\n",
        "import seaborn as sns"
      ]
    },
    {
      "cell_type": "code",
      "execution_count": 4,
      "metadata": {
        "colab": {
          "base_uri": "https://localhost:8080/",
          "height": 912
        },
        "id": "Nes5l0TXIssu",
        "outputId": "d7147386-a009-411a-ee51-d9a60e5aae59"
      },
      "outputs": [
        {
          "data": {
            "text/html": [
              "<div>\n",
              "<style scoped>\n",
              "    .dataframe tbody tr th:only-of-type {\n",
              "        vertical-align: middle;\n",
              "    }\n",
              "\n",
              "    .dataframe tbody tr th {\n",
              "        vertical-align: top;\n",
              "    }\n",
              "\n",
              "    .dataframe thead th {\n",
              "        text-align: right;\n",
              "    }\n",
              "</style>\n",
              "<table border=\"1\" class=\"dataframe\">\n",
              "  <thead>\n",
              "    <tr style=\"text-align: right;\">\n",
              "      <th></th>\n",
              "      <th>Type</th>\n",
              "      <th>Name</th>\n",
              "      <th>Age</th>\n",
              "      <th>Breed1</th>\n",
              "      <th>Breed2</th>\n",
              "      <th>Gender</th>\n",
              "      <th>Color1</th>\n",
              "      <th>Color2</th>\n",
              "      <th>Color3</th>\n",
              "      <th>MaturitySize</th>\n",
              "      <th>...</th>\n",
              "      <th>Health</th>\n",
              "      <th>Quantity</th>\n",
              "      <th>Fee</th>\n",
              "      <th>State</th>\n",
              "      <th>RescuerID</th>\n",
              "      <th>VideoAmt</th>\n",
              "      <th>Description</th>\n",
              "      <th>PetID</th>\n",
              "      <th>PhotoAmt</th>\n",
              "      <th>AdoptionSpeed</th>\n",
              "    </tr>\n",
              "  </thead>\n",
              "  <tbody>\n",
              "    <tr>\n",
              "      <th>0</th>\n",
              "      <td>2</td>\n",
              "      <td>Nibble</td>\n",
              "      <td>3</td>\n",
              "      <td>299</td>\n",
              "      <td>0</td>\n",
              "      <td>1</td>\n",
              "      <td>1</td>\n",
              "      <td>7</td>\n",
              "      <td>0</td>\n",
              "      <td>1</td>\n",
              "      <td>...</td>\n",
              "      <td>1</td>\n",
              "      <td>1</td>\n",
              "      <td>100</td>\n",
              "      <td>41326</td>\n",
              "      <td>8480853f516546f6cf33aa88cd76c379</td>\n",
              "      <td>0</td>\n",
              "      <td>Nibble is a 3+ month old ball of cuteness. He ...</td>\n",
              "      <td>86e1089a3</td>\n",
              "      <td>1.0</td>\n",
              "      <td>2</td>\n",
              "    </tr>\n",
              "    <tr>\n",
              "      <th>1</th>\n",
              "      <td>2</td>\n",
              "      <td>No Name Yet</td>\n",
              "      <td>1</td>\n",
              "      <td>265</td>\n",
              "      <td>0</td>\n",
              "      <td>1</td>\n",
              "      <td>1</td>\n",
              "      <td>2</td>\n",
              "      <td>0</td>\n",
              "      <td>2</td>\n",
              "      <td>...</td>\n",
              "      <td>1</td>\n",
              "      <td>1</td>\n",
              "      <td>0</td>\n",
              "      <td>41401</td>\n",
              "      <td>3082c7125d8fb66f7dd4bff4192c8b14</td>\n",
              "      <td>0</td>\n",
              "      <td>I just found it alone yesterday near my apartm...</td>\n",
              "      <td>6296e909a</td>\n",
              "      <td>2.0</td>\n",
              "      <td>0</td>\n",
              "    </tr>\n",
              "    <tr>\n",
              "      <th>2</th>\n",
              "      <td>1</td>\n",
              "      <td>Brisco</td>\n",
              "      <td>1</td>\n",
              "      <td>307</td>\n",
              "      <td>0</td>\n",
              "      <td>1</td>\n",
              "      <td>2</td>\n",
              "      <td>7</td>\n",
              "      <td>0</td>\n",
              "      <td>2</td>\n",
              "      <td>...</td>\n",
              "      <td>1</td>\n",
              "      <td>1</td>\n",
              "      <td>0</td>\n",
              "      <td>41326</td>\n",
              "      <td>fa90fa5b1ee11c86938398b60abc32cb</td>\n",
              "      <td>0</td>\n",
              "      <td>Their pregnant mother was dumped by her irresp...</td>\n",
              "      <td>3422e4906</td>\n",
              "      <td>7.0</td>\n",
              "      <td>3</td>\n",
              "    </tr>\n",
              "    <tr>\n",
              "      <th>3</th>\n",
              "      <td>1</td>\n",
              "      <td>Miko</td>\n",
              "      <td>4</td>\n",
              "      <td>307</td>\n",
              "      <td>0</td>\n",
              "      <td>2</td>\n",
              "      <td>1</td>\n",
              "      <td>2</td>\n",
              "      <td>0</td>\n",
              "      <td>2</td>\n",
              "      <td>...</td>\n",
              "      <td>1</td>\n",
              "      <td>1</td>\n",
              "      <td>150</td>\n",
              "      <td>41401</td>\n",
              "      <td>9238e4f44c71a75282e62f7136c6b240</td>\n",
              "      <td>0</td>\n",
              "      <td>Good guard dog, very alert, active, obedience ...</td>\n",
              "      <td>5842f1ff5</td>\n",
              "      <td>8.0</td>\n",
              "      <td>2</td>\n",
              "    </tr>\n",
              "    <tr>\n",
              "      <th>4</th>\n",
              "      <td>1</td>\n",
              "      <td>Hunter</td>\n",
              "      <td>1</td>\n",
              "      <td>307</td>\n",
              "      <td>0</td>\n",
              "      <td>1</td>\n",
              "      <td>1</td>\n",
              "      <td>0</td>\n",
              "      <td>0</td>\n",
              "      <td>2</td>\n",
              "      <td>...</td>\n",
              "      <td>1</td>\n",
              "      <td>1</td>\n",
              "      <td>0</td>\n",
              "      <td>41326</td>\n",
              "      <td>95481e953f8aed9ec3d16fc4509537e8</td>\n",
              "      <td>0</td>\n",
              "      <td>This handsome yet cute boy is up for adoption....</td>\n",
              "      <td>850a43f90</td>\n",
              "      <td>3.0</td>\n",
              "      <td>2</td>\n",
              "    </tr>\n",
              "    <tr>\n",
              "      <th>...</th>\n",
              "      <td>...</td>\n",
              "      <td>...</td>\n",
              "      <td>...</td>\n",
              "      <td>...</td>\n",
              "      <td>...</td>\n",
              "      <td>...</td>\n",
              "      <td>...</td>\n",
              "      <td>...</td>\n",
              "      <td>...</td>\n",
              "      <td>...</td>\n",
              "      <td>...</td>\n",
              "      <td>...</td>\n",
              "      <td>...</td>\n",
              "      <td>...</td>\n",
              "      <td>...</td>\n",
              "      <td>...</td>\n",
              "      <td>...</td>\n",
              "      <td>...</td>\n",
              "      <td>...</td>\n",
              "      <td>...</td>\n",
              "      <td>...</td>\n",
              "    </tr>\n",
              "    <tr>\n",
              "      <th>14988</th>\n",
              "      <td>2</td>\n",
              "      <td>NaN</td>\n",
              "      <td>2</td>\n",
              "      <td>266</td>\n",
              "      <td>0</td>\n",
              "      <td>3</td>\n",
              "      <td>1</td>\n",
              "      <td>0</td>\n",
              "      <td>0</td>\n",
              "      <td>2</td>\n",
              "      <td>...</td>\n",
              "      <td>1</td>\n",
              "      <td>4</td>\n",
              "      <td>0</td>\n",
              "      <td>41326</td>\n",
              "      <td>61c84bd7bcb6fb31d2d480b1bcf9682e</td>\n",
              "      <td>0</td>\n",
              "      <td>I have 4 kittens that need to be adopt urgentl...</td>\n",
              "      <td>dc0935a84</td>\n",
              "      <td>3.0</td>\n",
              "      <td>2</td>\n",
              "    </tr>\n",
              "    <tr>\n",
              "      <th>14989</th>\n",
              "      <td>2</td>\n",
              "      <td>Serato &amp; Eddie</td>\n",
              "      <td>60</td>\n",
              "      <td>265</td>\n",
              "      <td>264</td>\n",
              "      <td>3</td>\n",
              "      <td>1</td>\n",
              "      <td>4</td>\n",
              "      <td>7</td>\n",
              "      <td>2</td>\n",
              "      <td>...</td>\n",
              "      <td>1</td>\n",
              "      <td>2</td>\n",
              "      <td>0</td>\n",
              "      <td>41326</td>\n",
              "      <td>1d5096c4a5e159a3b750c5cfcf6ceabf</td>\n",
              "      <td>0</td>\n",
              "      <td>Serato(female cat- 3 color) is 4 years old and...</td>\n",
              "      <td>a01ab5b30</td>\n",
              "      <td>3.0</td>\n",
              "      <td>4</td>\n",
              "    </tr>\n",
              "    <tr>\n",
              "      <th>14990</th>\n",
              "      <td>2</td>\n",
              "      <td>Monkies</td>\n",
              "      <td>2</td>\n",
              "      <td>265</td>\n",
              "      <td>266</td>\n",
              "      <td>3</td>\n",
              "      <td>5</td>\n",
              "      <td>6</td>\n",
              "      <td>7</td>\n",
              "      <td>3</td>\n",
              "      <td>...</td>\n",
              "      <td>1</td>\n",
              "      <td>5</td>\n",
              "      <td>30</td>\n",
              "      <td>41326</td>\n",
              "      <td>6f40a7acfad5cc0bb3e44591ea446c05</td>\n",
              "      <td>0</td>\n",
              "      <td>Mix breed, good temperament kittens. Love huma...</td>\n",
              "      <td>d981b6395</td>\n",
              "      <td>5.0</td>\n",
              "      <td>3</td>\n",
              "    </tr>\n",
              "    <tr>\n",
              "      <th>14991</th>\n",
              "      <td>2</td>\n",
              "      <td>Ms Daym</td>\n",
              "      <td>9</td>\n",
              "      <td>266</td>\n",
              "      <td>0</td>\n",
              "      <td>2</td>\n",
              "      <td>4</td>\n",
              "      <td>7</td>\n",
              "      <td>0</td>\n",
              "      <td>1</td>\n",
              "      <td>...</td>\n",
              "      <td>1</td>\n",
              "      <td>1</td>\n",
              "      <td>0</td>\n",
              "      <td>41336</td>\n",
              "      <td>c311c0c569245baa147d91fa4e351ae4</td>\n",
              "      <td>0</td>\n",
              "      <td>she is very shy..adventures and independent..s...</td>\n",
              "      <td>e4da1c9e4</td>\n",
              "      <td>3.0</td>\n",
              "      <td>4</td>\n",
              "    </tr>\n",
              "    <tr>\n",
              "      <th>14992</th>\n",
              "      <td>1</td>\n",
              "      <td>Fili</td>\n",
              "      <td>1</td>\n",
              "      <td>307</td>\n",
              "      <td>307</td>\n",
              "      <td>1</td>\n",
              "      <td>2</td>\n",
              "      <td>0</td>\n",
              "      <td>0</td>\n",
              "      <td>2</td>\n",
              "      <td>...</td>\n",
              "      <td>1</td>\n",
              "      <td>1</td>\n",
              "      <td>0</td>\n",
              "      <td>41332</td>\n",
              "      <td>9ed1d5493d223eaa5024c1a031dbc9c2</td>\n",
              "      <td>0</td>\n",
              "      <td>Fili just loves laying around and also loves b...</td>\n",
              "      <td>a83d95ead</td>\n",
              "      <td>1.0</td>\n",
              "      <td>3</td>\n",
              "    </tr>\n",
              "  </tbody>\n",
              "</table>\n",
              "<p>14993 rows × 24 columns</p>\n",
              "</div>"
            ],
            "text/plain": [
              "       Type            Name  Age  Breed1  Breed2  Gender  Color1  Color2  \\\n",
              "0         2          Nibble    3     299       0       1       1       7   \n",
              "1         2     No Name Yet    1     265       0       1       1       2   \n",
              "2         1          Brisco    1     307       0       1       2       7   \n",
              "3         1            Miko    4     307       0       2       1       2   \n",
              "4         1          Hunter    1     307       0       1       1       0   \n",
              "...     ...             ...  ...     ...     ...     ...     ...     ...   \n",
              "14988     2             NaN    2     266       0       3       1       0   \n",
              "14989     2  Serato & Eddie   60     265     264       3       1       4   \n",
              "14990     2         Monkies    2     265     266       3       5       6   \n",
              "14991     2         Ms Daym    9     266       0       2       4       7   \n",
              "14992     1            Fili    1     307     307       1       2       0   \n",
              "\n",
              "       Color3  MaturitySize  ...  Health  Quantity  Fee  State  \\\n",
              "0           0             1  ...       1         1  100  41326   \n",
              "1           0             2  ...       1         1    0  41401   \n",
              "2           0             2  ...       1         1    0  41326   \n",
              "3           0             2  ...       1         1  150  41401   \n",
              "4           0             2  ...       1         1    0  41326   \n",
              "...       ...           ...  ...     ...       ...  ...    ...   \n",
              "14988       0             2  ...       1         4    0  41326   \n",
              "14989       7             2  ...       1         2    0  41326   \n",
              "14990       7             3  ...       1         5   30  41326   \n",
              "14991       0             1  ...       1         1    0  41336   \n",
              "14992       0             2  ...       1         1    0  41332   \n",
              "\n",
              "                              RescuerID  VideoAmt  \\\n",
              "0      8480853f516546f6cf33aa88cd76c379         0   \n",
              "1      3082c7125d8fb66f7dd4bff4192c8b14         0   \n",
              "2      fa90fa5b1ee11c86938398b60abc32cb         0   \n",
              "3      9238e4f44c71a75282e62f7136c6b240         0   \n",
              "4      95481e953f8aed9ec3d16fc4509537e8         0   \n",
              "...                                 ...       ...   \n",
              "14988  61c84bd7bcb6fb31d2d480b1bcf9682e         0   \n",
              "14989  1d5096c4a5e159a3b750c5cfcf6ceabf         0   \n",
              "14990  6f40a7acfad5cc0bb3e44591ea446c05         0   \n",
              "14991  c311c0c569245baa147d91fa4e351ae4         0   \n",
              "14992  9ed1d5493d223eaa5024c1a031dbc9c2         0   \n",
              "\n",
              "                                             Description      PetID PhotoAmt  \\\n",
              "0      Nibble is a 3+ month old ball of cuteness. He ...  86e1089a3      1.0   \n",
              "1      I just found it alone yesterday near my apartm...  6296e909a      2.0   \n",
              "2      Their pregnant mother was dumped by her irresp...  3422e4906      7.0   \n",
              "3      Good guard dog, very alert, active, obedience ...  5842f1ff5      8.0   \n",
              "4      This handsome yet cute boy is up for adoption....  850a43f90      3.0   \n",
              "...                                                  ...        ...      ...   \n",
              "14988  I have 4 kittens that need to be adopt urgentl...  dc0935a84      3.0   \n",
              "14989  Serato(female cat- 3 color) is 4 years old and...  a01ab5b30      3.0   \n",
              "14990  Mix breed, good temperament kittens. Love huma...  d981b6395      5.0   \n",
              "14991  she is very shy..adventures and independent..s...  e4da1c9e4      3.0   \n",
              "14992  Fili just loves laying around and also loves b...  a83d95ead      1.0   \n",
              "\n",
              "       AdoptionSpeed  \n",
              "0                  2  \n",
              "1                  0  \n",
              "2                  3  \n",
              "3                  2  \n",
              "4                  2  \n",
              "...              ...  \n",
              "14988              2  \n",
              "14989              4  \n",
              "14990              3  \n",
              "14991              4  \n",
              "14992              3  \n",
              "\n",
              "[14993 rows x 24 columns]"
            ]
          },
          "execution_count": 4,
          "metadata": {},
          "output_type": "execute_result"
        }
      ],
      "source": [
        "pet_data = pd.read_csv('/Users/aishwaryak/Desktop/ml-files/train.csv')\n",
        "pet_data"
      ]
    },
    {
      "cell_type": "markdown",
      "metadata": {
        "id": "m8pfvgz6fF0f"
      },
      "source": [
        "basic EDA"
      ]
    },
    {
      "cell_type": "code",
      "execution_count": 5,
      "metadata": {
        "colab": {
          "base_uri": "https://localhost:8080/"
        },
        "id": "PeHtA5XCb79s",
        "outputId": "d9e50b47-d32b-4747-ed53-500d254c553f"
      },
      "outputs": [
        {
          "name": "stdout",
          "output_type": "stream",
          "text": [
            "<class 'pandas.core.frame.DataFrame'>\n",
            "RangeIndex: 14993 entries, 0 to 14992\n",
            "Data columns (total 24 columns):\n",
            " #   Column         Non-Null Count  Dtype  \n",
            "---  ------         --------------  -----  \n",
            " 0   Type           14993 non-null  int64  \n",
            " 1   Name           13728 non-null  object \n",
            " 2   Age            14993 non-null  int64  \n",
            " 3   Breed1         14993 non-null  int64  \n",
            " 4   Breed2         14993 non-null  int64  \n",
            " 5   Gender         14993 non-null  int64  \n",
            " 6   Color1         14993 non-null  int64  \n",
            " 7   Color2         14993 non-null  int64  \n",
            " 8   Color3         14993 non-null  int64  \n",
            " 9   MaturitySize   14993 non-null  int64  \n",
            " 10  FurLength      14993 non-null  int64  \n",
            " 11  Vaccinated     14993 non-null  int64  \n",
            " 12  Dewormed       14993 non-null  int64  \n",
            " 13  Sterilized     14993 non-null  int64  \n",
            " 14  Health         14993 non-null  int64  \n",
            " 15  Quantity       14993 non-null  int64  \n",
            " 16  Fee            14993 non-null  int64  \n",
            " 17  State          14993 non-null  int64  \n",
            " 18  RescuerID      14993 non-null  object \n",
            " 19  VideoAmt       14993 non-null  int64  \n",
            " 20  Description    14980 non-null  object \n",
            " 21  PetID          14993 non-null  object \n",
            " 22  PhotoAmt       14993 non-null  float64\n",
            " 23  AdoptionSpeed  14993 non-null  int64  \n",
            "dtypes: float64(1), int64(19), object(4)\n",
            "memory usage: 2.7+ MB\n"
          ]
        }
      ],
      "source": [
        "pet_data.info()"
      ]
    },
    {
      "cell_type": "code",
      "execution_count": 6,
      "metadata": {
        "colab": {
          "base_uri": "https://localhost:8080/",
          "height": 320
        },
        "id": "HLk25BdRdWa3",
        "outputId": "53aa35a7-aa9f-48ee-80a9-a8663e659f9f"
      },
      "outputs": [
        {
          "data": {
            "text/html": [
              "<div>\n",
              "<style scoped>\n",
              "    .dataframe tbody tr th:only-of-type {\n",
              "        vertical-align: middle;\n",
              "    }\n",
              "\n",
              "    .dataframe tbody tr th {\n",
              "        vertical-align: top;\n",
              "    }\n",
              "\n",
              "    .dataframe thead th {\n",
              "        text-align: right;\n",
              "    }\n",
              "</style>\n",
              "<table border=\"1\" class=\"dataframe\">\n",
              "  <thead>\n",
              "    <tr style=\"text-align: right;\">\n",
              "      <th></th>\n",
              "      <th>Type</th>\n",
              "      <th>Age</th>\n",
              "      <th>Breed1</th>\n",
              "      <th>Breed2</th>\n",
              "      <th>Gender</th>\n",
              "      <th>Color1</th>\n",
              "      <th>Color2</th>\n",
              "      <th>Color3</th>\n",
              "      <th>MaturitySize</th>\n",
              "      <th>FurLength</th>\n",
              "      <th>Vaccinated</th>\n",
              "      <th>Dewormed</th>\n",
              "      <th>Sterilized</th>\n",
              "      <th>Health</th>\n",
              "      <th>Quantity</th>\n",
              "      <th>Fee</th>\n",
              "      <th>State</th>\n",
              "      <th>VideoAmt</th>\n",
              "      <th>PhotoAmt</th>\n",
              "      <th>AdoptionSpeed</th>\n",
              "    </tr>\n",
              "  </thead>\n",
              "  <tbody>\n",
              "    <tr>\n",
              "      <th>count</th>\n",
              "      <td>14993.000000</td>\n",
              "      <td>14993.000000</td>\n",
              "      <td>14993.000000</td>\n",
              "      <td>14993.000000</td>\n",
              "      <td>14993.000000</td>\n",
              "      <td>14993.000000</td>\n",
              "      <td>14993.000000</td>\n",
              "      <td>14993.000000</td>\n",
              "      <td>14993.000000</td>\n",
              "      <td>14993.000000</td>\n",
              "      <td>14993.000000</td>\n",
              "      <td>14993.000000</td>\n",
              "      <td>14993.000000</td>\n",
              "      <td>14993.000000</td>\n",
              "      <td>14993.000000</td>\n",
              "      <td>14993.000000</td>\n",
              "      <td>14993.000000</td>\n",
              "      <td>14993.000000</td>\n",
              "      <td>14993.000000</td>\n",
              "      <td>14993.000000</td>\n",
              "    </tr>\n",
              "    <tr>\n",
              "      <th>mean</th>\n",
              "      <td>1.457614</td>\n",
              "      <td>10.452078</td>\n",
              "      <td>265.272594</td>\n",
              "      <td>74.009738</td>\n",
              "      <td>1.776162</td>\n",
              "      <td>2.234176</td>\n",
              "      <td>3.222837</td>\n",
              "      <td>1.882012</td>\n",
              "      <td>1.862002</td>\n",
              "      <td>1.467485</td>\n",
              "      <td>1.731208</td>\n",
              "      <td>1.558727</td>\n",
              "      <td>1.914227</td>\n",
              "      <td>1.036617</td>\n",
              "      <td>1.576069</td>\n",
              "      <td>21.259988</td>\n",
              "      <td>41346.028347</td>\n",
              "      <td>0.056760</td>\n",
              "      <td>3.889215</td>\n",
              "      <td>2.516441</td>\n",
              "    </tr>\n",
              "    <tr>\n",
              "      <th>std</th>\n",
              "      <td>0.498217</td>\n",
              "      <td>18.155790</td>\n",
              "      <td>60.056818</td>\n",
              "      <td>123.011575</td>\n",
              "      <td>0.681592</td>\n",
              "      <td>1.745225</td>\n",
              "      <td>2.742562</td>\n",
              "      <td>2.984086</td>\n",
              "      <td>0.547959</td>\n",
              "      <td>0.599070</td>\n",
              "      <td>0.667649</td>\n",
              "      <td>0.695817</td>\n",
              "      <td>0.566172</td>\n",
              "      <td>0.199535</td>\n",
              "      <td>1.472477</td>\n",
              "      <td>78.414548</td>\n",
              "      <td>32.444153</td>\n",
              "      <td>0.346185</td>\n",
              "      <td>3.487810</td>\n",
              "      <td>1.177265</td>\n",
              "    </tr>\n",
              "    <tr>\n",
              "      <th>min</th>\n",
              "      <td>1.000000</td>\n",
              "      <td>0.000000</td>\n",
              "      <td>0.000000</td>\n",
              "      <td>0.000000</td>\n",
              "      <td>1.000000</td>\n",
              "      <td>1.000000</td>\n",
              "      <td>0.000000</td>\n",
              "      <td>0.000000</td>\n",
              "      <td>1.000000</td>\n",
              "      <td>1.000000</td>\n",
              "      <td>1.000000</td>\n",
              "      <td>1.000000</td>\n",
              "      <td>1.000000</td>\n",
              "      <td>1.000000</td>\n",
              "      <td>1.000000</td>\n",
              "      <td>0.000000</td>\n",
              "      <td>41324.000000</td>\n",
              "      <td>0.000000</td>\n",
              "      <td>0.000000</td>\n",
              "      <td>0.000000</td>\n",
              "    </tr>\n",
              "    <tr>\n",
              "      <th>25%</th>\n",
              "      <td>1.000000</td>\n",
              "      <td>2.000000</td>\n",
              "      <td>265.000000</td>\n",
              "      <td>0.000000</td>\n",
              "      <td>1.000000</td>\n",
              "      <td>1.000000</td>\n",
              "      <td>0.000000</td>\n",
              "      <td>0.000000</td>\n",
              "      <td>2.000000</td>\n",
              "      <td>1.000000</td>\n",
              "      <td>1.000000</td>\n",
              "      <td>1.000000</td>\n",
              "      <td>2.000000</td>\n",
              "      <td>1.000000</td>\n",
              "      <td>1.000000</td>\n",
              "      <td>0.000000</td>\n",
              "      <td>41326.000000</td>\n",
              "      <td>0.000000</td>\n",
              "      <td>2.000000</td>\n",
              "      <td>2.000000</td>\n",
              "    </tr>\n",
              "    <tr>\n",
              "      <th>50%</th>\n",
              "      <td>1.000000</td>\n",
              "      <td>3.000000</td>\n",
              "      <td>266.000000</td>\n",
              "      <td>0.000000</td>\n",
              "      <td>2.000000</td>\n",
              "      <td>2.000000</td>\n",
              "      <td>2.000000</td>\n",
              "      <td>0.000000</td>\n",
              "      <td>2.000000</td>\n",
              "      <td>1.000000</td>\n",
              "      <td>2.000000</td>\n",
              "      <td>1.000000</td>\n",
              "      <td>2.000000</td>\n",
              "      <td>1.000000</td>\n",
              "      <td>1.000000</td>\n",
              "      <td>0.000000</td>\n",
              "      <td>41326.000000</td>\n",
              "      <td>0.000000</td>\n",
              "      <td>3.000000</td>\n",
              "      <td>2.000000</td>\n",
              "    </tr>\n",
              "    <tr>\n",
              "      <th>75%</th>\n",
              "      <td>2.000000</td>\n",
              "      <td>12.000000</td>\n",
              "      <td>307.000000</td>\n",
              "      <td>179.000000</td>\n",
              "      <td>2.000000</td>\n",
              "      <td>3.000000</td>\n",
              "      <td>6.000000</td>\n",
              "      <td>5.000000</td>\n",
              "      <td>2.000000</td>\n",
              "      <td>2.000000</td>\n",
              "      <td>2.000000</td>\n",
              "      <td>2.000000</td>\n",
              "      <td>2.000000</td>\n",
              "      <td>1.000000</td>\n",
              "      <td>1.000000</td>\n",
              "      <td>0.000000</td>\n",
              "      <td>41401.000000</td>\n",
              "      <td>0.000000</td>\n",
              "      <td>5.000000</td>\n",
              "      <td>4.000000</td>\n",
              "    </tr>\n",
              "    <tr>\n",
              "      <th>max</th>\n",
              "      <td>2.000000</td>\n",
              "      <td>255.000000</td>\n",
              "      <td>307.000000</td>\n",
              "      <td>307.000000</td>\n",
              "      <td>3.000000</td>\n",
              "      <td>7.000000</td>\n",
              "      <td>7.000000</td>\n",
              "      <td>7.000000</td>\n",
              "      <td>4.000000</td>\n",
              "      <td>3.000000</td>\n",
              "      <td>3.000000</td>\n",
              "      <td>3.000000</td>\n",
              "      <td>3.000000</td>\n",
              "      <td>3.000000</td>\n",
              "      <td>20.000000</td>\n",
              "      <td>3000.000000</td>\n",
              "      <td>41415.000000</td>\n",
              "      <td>8.000000</td>\n",
              "      <td>30.000000</td>\n",
              "      <td>4.000000</td>\n",
              "    </tr>\n",
              "  </tbody>\n",
              "</table>\n",
              "</div>"
            ],
            "text/plain": [
              "               Type           Age        Breed1        Breed2        Gender  \\\n",
              "count  14993.000000  14993.000000  14993.000000  14993.000000  14993.000000   \n",
              "mean       1.457614     10.452078    265.272594     74.009738      1.776162   \n",
              "std        0.498217     18.155790     60.056818    123.011575      0.681592   \n",
              "min        1.000000      0.000000      0.000000      0.000000      1.000000   \n",
              "25%        1.000000      2.000000    265.000000      0.000000      1.000000   \n",
              "50%        1.000000      3.000000    266.000000      0.000000      2.000000   \n",
              "75%        2.000000     12.000000    307.000000    179.000000      2.000000   \n",
              "max        2.000000    255.000000    307.000000    307.000000      3.000000   \n",
              "\n",
              "             Color1        Color2        Color3  MaturitySize     FurLength  \\\n",
              "count  14993.000000  14993.000000  14993.000000  14993.000000  14993.000000   \n",
              "mean       2.234176      3.222837      1.882012      1.862002      1.467485   \n",
              "std        1.745225      2.742562      2.984086      0.547959      0.599070   \n",
              "min        1.000000      0.000000      0.000000      1.000000      1.000000   \n",
              "25%        1.000000      0.000000      0.000000      2.000000      1.000000   \n",
              "50%        2.000000      2.000000      0.000000      2.000000      1.000000   \n",
              "75%        3.000000      6.000000      5.000000      2.000000      2.000000   \n",
              "max        7.000000      7.000000      7.000000      4.000000      3.000000   \n",
              "\n",
              "         Vaccinated      Dewormed    Sterilized        Health      Quantity  \\\n",
              "count  14993.000000  14993.000000  14993.000000  14993.000000  14993.000000   \n",
              "mean       1.731208      1.558727      1.914227      1.036617      1.576069   \n",
              "std        0.667649      0.695817      0.566172      0.199535      1.472477   \n",
              "min        1.000000      1.000000      1.000000      1.000000      1.000000   \n",
              "25%        1.000000      1.000000      2.000000      1.000000      1.000000   \n",
              "50%        2.000000      1.000000      2.000000      1.000000      1.000000   \n",
              "75%        2.000000      2.000000      2.000000      1.000000      1.000000   \n",
              "max        3.000000      3.000000      3.000000      3.000000     20.000000   \n",
              "\n",
              "                Fee         State      VideoAmt      PhotoAmt  AdoptionSpeed  \n",
              "count  14993.000000  14993.000000  14993.000000  14993.000000   14993.000000  \n",
              "mean      21.259988  41346.028347      0.056760      3.889215       2.516441  \n",
              "std       78.414548     32.444153      0.346185      3.487810       1.177265  \n",
              "min        0.000000  41324.000000      0.000000      0.000000       0.000000  \n",
              "25%        0.000000  41326.000000      0.000000      2.000000       2.000000  \n",
              "50%        0.000000  41326.000000      0.000000      3.000000       2.000000  \n",
              "75%        0.000000  41401.000000      0.000000      5.000000       4.000000  \n",
              "max     3000.000000  41415.000000      8.000000     30.000000       4.000000  "
            ]
          },
          "execution_count": 6,
          "metadata": {},
          "output_type": "execute_result"
        }
      ],
      "source": [
        "pet_data.describe()"
      ]
    },
    {
      "cell_type": "code",
      "execution_count": 7,
      "metadata": {
        "colab": {
          "base_uri": "https://localhost:8080/",
          "height": 837
        },
        "id": "G1I8Yk0YdZLR",
        "outputId": "7717f223-e643-46a5-83c6-00b6f5950f5f"
      },
      "outputs": [
        {
          "data": {
            "text/plain": [
              "Type                0\n",
              "Name             1265\n",
              "Age                 0\n",
              "Breed1              0\n",
              "Breed2              0\n",
              "Gender              0\n",
              "Color1              0\n",
              "Color2              0\n",
              "Color3              0\n",
              "MaturitySize        0\n",
              "FurLength           0\n",
              "Vaccinated          0\n",
              "Dewormed            0\n",
              "Sterilized          0\n",
              "Health              0\n",
              "Quantity            0\n",
              "Fee                 0\n",
              "State               0\n",
              "RescuerID           0\n",
              "VideoAmt            0\n",
              "Description        13\n",
              "PetID               0\n",
              "PhotoAmt            0\n",
              "AdoptionSpeed       0\n",
              "dtype: int64"
            ]
          },
          "execution_count": 7,
          "metadata": {},
          "output_type": "execute_result"
        }
      ],
      "source": [
        "pet_data.isnull().sum()"
      ]
    },
    {
      "cell_type": "markdown",
      "metadata": {
        "id": "XRMCUTJ5fLvq"
      },
      "source": [
        "handling missing values (data preprocessing)"
      ]
    },
    {
      "cell_type": "code",
      "execution_count": 8,
      "metadata": {
        "id": "-ofKujdKdght"
      },
      "outputs": [],
      "source": [
        "# We will fill all missing 'Name' values with the text 'No Name'.\n",
        "# This makes it a clean, non-missing value that your model can use.\n",
        "pet_data['Name'] = pet_data['Name'].fillna('No Name')"
      ]
    },
    {
      "cell_type": "code",
      "execution_count": 9,
      "metadata": {
        "colab": {
          "base_uri": "https://localhost:8080/"
        },
        "id": "U8NVpyVGdton",
        "outputId": "6006c57f-076f-4cd9-c107-cc270a1fd796"
      },
      "outputs": [
        {
          "data": {
            "text/plain": [
              "np.int64(0)"
            ]
          },
          "execution_count": 9,
          "metadata": {},
          "output_type": "execute_result"
        }
      ],
      "source": [
        "pet_data['Name'].isnull().sum()"
      ]
    },
    {
      "cell_type": "code",
      "execution_count": 10,
      "metadata": {
        "id": "RBoEMnZnd04q"
      },
      "outputs": [],
      "source": [
        "# We will fill all missing 'Description' values with the text 'No Description'.\n",
        "# This is a simple and common technique.\n",
        "pet_data['Description'] = pet_data['Description'].fillna('No Description')"
      ]
    },
    {
      "cell_type": "code",
      "execution_count": 11,
      "metadata": {
        "colab": {
          "base_uri": "https://localhost:8080/"
        },
        "id": "0rckFWkueAvH",
        "outputId": "66c79e46-b740-451c-dfe5-c6dbd7678abc"
      },
      "outputs": [
        {
          "data": {
            "text/plain": [
              "np.int64(0)"
            ]
          },
          "execution_count": 11,
          "metadata": {},
          "output_type": "execute_result"
        }
      ],
      "source": [
        "pet_data['Description'].isnull().sum()"
      ]
    },
    {
      "cell_type": "code",
      "execution_count": 12,
      "metadata": {
        "colab": {
          "base_uri": "https://localhost:8080/",
          "height": 837
        },
        "id": "ZZKpEr90eL1M",
        "outputId": "bcb56f60-21b7-4b89-b870-b58d1cc15dd6"
      },
      "outputs": [
        {
          "data": {
            "text/plain": [
              "Type             0\n",
              "Name             0\n",
              "Age              0\n",
              "Breed1           0\n",
              "Breed2           0\n",
              "Gender           0\n",
              "Color1           0\n",
              "Color2           0\n",
              "Color3           0\n",
              "MaturitySize     0\n",
              "FurLength        0\n",
              "Vaccinated       0\n",
              "Dewormed         0\n",
              "Sterilized       0\n",
              "Health           0\n",
              "Quantity         0\n",
              "Fee              0\n",
              "State            0\n",
              "RescuerID        0\n",
              "VideoAmt         0\n",
              "Description      0\n",
              "PetID            0\n",
              "PhotoAmt         0\n",
              "AdoptionSpeed    0\n",
              "dtype: int64"
            ]
          },
          "execution_count": 12,
          "metadata": {},
          "output_type": "execute_result"
        }
      ],
      "source": [
        "pet_data.isnull().sum()"
      ]
    },
    {
      "cell_type": "markdown",
      "metadata": {
        "id": "Qm-QRFhEfSfb"
      },
      "source": []
    },
    {
      "cell_type": "code",
      "execution_count": 13,
      "metadata": {
        "colab": {
          "base_uri": "https://localhost:8080/"
        },
        "id": "bXpQtM_SeQLl",
        "outputId": "ee845f67-9fbf-426f-f16b-23e5ff943b4f"
      },
      "outputs": [
        {
          "name": "stdout",
          "output_type": "stream",
          "text": [
            "<class 'pandas.core.frame.DataFrame'>\n",
            "RangeIndex: 14993 entries, 0 to 14992\n",
            "Data columns (total 24 columns):\n",
            " #   Column         Non-Null Count  Dtype  \n",
            "---  ------         --------------  -----  \n",
            " 0   Type           14993 non-null  int64  \n",
            " 1   Name           14993 non-null  object \n",
            " 2   Age            14993 non-null  int64  \n",
            " 3   Breed1         14993 non-null  int64  \n",
            " 4   Breed2         14993 non-null  int64  \n",
            " 5   Gender         14993 non-null  int64  \n",
            " 6   Color1         14993 non-null  int64  \n",
            " 7   Color2         14993 non-null  int64  \n",
            " 8   Color3         14993 non-null  int64  \n",
            " 9   MaturitySize   14993 non-null  int64  \n",
            " 10  FurLength      14993 non-null  int64  \n",
            " 11  Vaccinated     14993 non-null  int64  \n",
            " 12  Dewormed       14993 non-null  int64  \n",
            " 13  Sterilized     14993 non-null  int64  \n",
            " 14  Health         14993 non-null  int64  \n",
            " 15  Quantity       14993 non-null  int64  \n",
            " 16  Fee            14993 non-null  int64  \n",
            " 17  State          14993 non-null  int64  \n",
            " 18  RescuerID      14993 non-null  object \n",
            " 19  VideoAmt       14993 non-null  int64  \n",
            " 20  Description    14993 non-null  object \n",
            " 21  PetID          14993 non-null  object \n",
            " 22  PhotoAmt       14993 non-null  float64\n",
            " 23  AdoptionSpeed  14993 non-null  int64  \n",
            "dtypes: float64(1), int64(19), object(4)\n",
            "memory usage: 2.7+ MB\n"
          ]
        }
      ],
      "source": [
        "pet_data.info()"
      ]
    },
    {
      "cell_type": "code",
      "execution_count": 14,
      "metadata": {
        "colab": {
          "base_uri": "https://localhost:8080/"
        },
        "id": "pggt1J3zfXZq",
        "outputId": "92be2ccf-015d-43e4-afd3-73bb67e02170"
      },
      "outputs": [
        {
          "name": "stdout",
          "output_type": "stream",
          "text": [
            "['Name', 'RescuerID', 'Description', 'PetID']\n"
          ]
        }
      ],
      "source": [
        "#we have 4 categorical values hence we use one-hot encoding to change categorical data into numerical data\n",
        "#listing all categorical values that i want to change\n",
        "categorical_cols = [ 'Name',\n",
        "                    'RescuerID',\n",
        "                    'Description',\n",
        "                    'PetID']\n",
        "\n",
        "print(categorical_cols)"
      ]
    },
    {
      "cell_type": "code",
      "execution_count": 15,
      "metadata": {
        "id": "ZK9VuAWXiM0S"
      },
      "outputs": [],
      "source": [
        "# Add a new column with the length of the description\n",
        "pet_data['desc_length'] = pet_data['Description'].apply(len)\n",
        "\n",
        "# Add a new column to indicate if the pet has a name\n",
        "pet_data['has_name'] = pet_data['Name'] != 'No Name'\n",
        "\n",
        "pet_data_enc = pd.get_dummies(pet_data)"
      ]
    },
    {
      "cell_type": "code",
      "execution_count": 16,
      "metadata": {
        "colab": {
          "base_uri": "https://localhost:8080/"
        },
        "id": "AzxRfZ4-ipKR",
        "outputId": "06eea4ae-8cf8-4695-e684-39305879e43c"
      },
      "outputs": [
        {
          "name": "stdout",
          "output_type": "stream",
          "text": [
            "<class 'pandas.core.frame.DataFrame'>\n",
            "RangeIndex: 14993 entries, 0 to 14992\n",
            "Columns: 43701 entries, Type to PetID_fffd9b5a8\n",
            "dtypes: bool(43680), float64(1), int64(20)\n",
            "memory usage: 627.0 MB\n"
          ]
        }
      ],
      "source": [
        "pet_data_enc.info()"
      ]
    },
    {
      "cell_type": "code",
      "execution_count": 17,
      "metadata": {
        "colab": {
          "base_uri": "https://localhost:8080/",
          "height": 444
        },
        "id": "kqIBfJG2lxX7",
        "outputId": "d293a955-b5df-4d6a-9fe2-d8bab9c89b1f"
      },
      "outputs": [
        {
          "data": {
            "text/html": [
              "<div>\n",
              "<style scoped>\n",
              "    .dataframe tbody tr th:only-of-type {\n",
              "        vertical-align: middle;\n",
              "    }\n",
              "\n",
              "    .dataframe tbody tr th {\n",
              "        vertical-align: top;\n",
              "    }\n",
              "\n",
              "    .dataframe thead th {\n",
              "        text-align: right;\n",
              "    }\n",
              "</style>\n",
              "<table border=\"1\" class=\"dataframe\">\n",
              "  <thead>\n",
              "    <tr style=\"text-align: right;\">\n",
              "      <th></th>\n",
              "      <th>Type</th>\n",
              "      <th>Age</th>\n",
              "      <th>Breed1</th>\n",
              "      <th>Breed2</th>\n",
              "      <th>Gender</th>\n",
              "      <th>Color1</th>\n",
              "      <th>Color2</th>\n",
              "      <th>Color3</th>\n",
              "      <th>MaturitySize</th>\n",
              "      <th>FurLength</th>\n",
              "      <th>...</th>\n",
              "      <th>PetID_ffe5a0271</th>\n",
              "      <th>PetID_ffe7f0b70</th>\n",
              "      <th>PetID_ffebad2e7</th>\n",
              "      <th>PetID_ffef9a2af</th>\n",
              "      <th>PetID_fff24fcb5</th>\n",
              "      <th>PetID_fff4a6420</th>\n",
              "      <th>PetID_fff6f2f61</th>\n",
              "      <th>PetID_fffa39a6a</th>\n",
              "      <th>PetID_fffd78a11</th>\n",
              "      <th>PetID_fffd9b5a8</th>\n",
              "    </tr>\n",
              "  </thead>\n",
              "  <tbody>\n",
              "    <tr>\n",
              "      <th>0</th>\n",
              "      <td>2</td>\n",
              "      <td>3</td>\n",
              "      <td>299</td>\n",
              "      <td>0</td>\n",
              "      <td>1</td>\n",
              "      <td>1</td>\n",
              "      <td>7</td>\n",
              "      <td>0</td>\n",
              "      <td>1</td>\n",
              "      <td>1</td>\n",
              "      <td>...</td>\n",
              "      <td>False</td>\n",
              "      <td>False</td>\n",
              "      <td>False</td>\n",
              "      <td>False</td>\n",
              "      <td>False</td>\n",
              "      <td>False</td>\n",
              "      <td>False</td>\n",
              "      <td>False</td>\n",
              "      <td>False</td>\n",
              "      <td>False</td>\n",
              "    </tr>\n",
              "    <tr>\n",
              "      <th>1</th>\n",
              "      <td>2</td>\n",
              "      <td>1</td>\n",
              "      <td>265</td>\n",
              "      <td>0</td>\n",
              "      <td>1</td>\n",
              "      <td>1</td>\n",
              "      <td>2</td>\n",
              "      <td>0</td>\n",
              "      <td>2</td>\n",
              "      <td>2</td>\n",
              "      <td>...</td>\n",
              "      <td>False</td>\n",
              "      <td>False</td>\n",
              "      <td>False</td>\n",
              "      <td>False</td>\n",
              "      <td>False</td>\n",
              "      <td>False</td>\n",
              "      <td>False</td>\n",
              "      <td>False</td>\n",
              "      <td>False</td>\n",
              "      <td>False</td>\n",
              "    </tr>\n",
              "    <tr>\n",
              "      <th>2</th>\n",
              "      <td>1</td>\n",
              "      <td>1</td>\n",
              "      <td>307</td>\n",
              "      <td>0</td>\n",
              "      <td>1</td>\n",
              "      <td>2</td>\n",
              "      <td>7</td>\n",
              "      <td>0</td>\n",
              "      <td>2</td>\n",
              "      <td>2</td>\n",
              "      <td>...</td>\n",
              "      <td>False</td>\n",
              "      <td>False</td>\n",
              "      <td>False</td>\n",
              "      <td>False</td>\n",
              "      <td>False</td>\n",
              "      <td>False</td>\n",
              "      <td>False</td>\n",
              "      <td>False</td>\n",
              "      <td>False</td>\n",
              "      <td>False</td>\n",
              "    </tr>\n",
              "    <tr>\n",
              "      <th>3</th>\n",
              "      <td>1</td>\n",
              "      <td>4</td>\n",
              "      <td>307</td>\n",
              "      <td>0</td>\n",
              "      <td>2</td>\n",
              "      <td>1</td>\n",
              "      <td>2</td>\n",
              "      <td>0</td>\n",
              "      <td>2</td>\n",
              "      <td>1</td>\n",
              "      <td>...</td>\n",
              "      <td>False</td>\n",
              "      <td>False</td>\n",
              "      <td>False</td>\n",
              "      <td>False</td>\n",
              "      <td>False</td>\n",
              "      <td>False</td>\n",
              "      <td>False</td>\n",
              "      <td>False</td>\n",
              "      <td>False</td>\n",
              "      <td>False</td>\n",
              "    </tr>\n",
              "    <tr>\n",
              "      <th>4</th>\n",
              "      <td>1</td>\n",
              "      <td>1</td>\n",
              "      <td>307</td>\n",
              "      <td>0</td>\n",
              "      <td>1</td>\n",
              "      <td>1</td>\n",
              "      <td>0</td>\n",
              "      <td>0</td>\n",
              "      <td>2</td>\n",
              "      <td>1</td>\n",
              "      <td>...</td>\n",
              "      <td>False</td>\n",
              "      <td>False</td>\n",
              "      <td>False</td>\n",
              "      <td>False</td>\n",
              "      <td>False</td>\n",
              "      <td>False</td>\n",
              "      <td>False</td>\n",
              "      <td>False</td>\n",
              "      <td>False</td>\n",
              "      <td>False</td>\n",
              "    </tr>\n",
              "    <tr>\n",
              "      <th>...</th>\n",
              "      <td>...</td>\n",
              "      <td>...</td>\n",
              "      <td>...</td>\n",
              "      <td>...</td>\n",
              "      <td>...</td>\n",
              "      <td>...</td>\n",
              "      <td>...</td>\n",
              "      <td>...</td>\n",
              "      <td>...</td>\n",
              "      <td>...</td>\n",
              "      <td>...</td>\n",
              "      <td>...</td>\n",
              "      <td>...</td>\n",
              "      <td>...</td>\n",
              "      <td>...</td>\n",
              "      <td>...</td>\n",
              "      <td>...</td>\n",
              "      <td>...</td>\n",
              "      <td>...</td>\n",
              "      <td>...</td>\n",
              "      <td>...</td>\n",
              "    </tr>\n",
              "    <tr>\n",
              "      <th>14988</th>\n",
              "      <td>2</td>\n",
              "      <td>2</td>\n",
              "      <td>266</td>\n",
              "      <td>0</td>\n",
              "      <td>3</td>\n",
              "      <td>1</td>\n",
              "      <td>0</td>\n",
              "      <td>0</td>\n",
              "      <td>2</td>\n",
              "      <td>2</td>\n",
              "      <td>...</td>\n",
              "      <td>False</td>\n",
              "      <td>False</td>\n",
              "      <td>False</td>\n",
              "      <td>False</td>\n",
              "      <td>False</td>\n",
              "      <td>False</td>\n",
              "      <td>False</td>\n",
              "      <td>False</td>\n",
              "      <td>False</td>\n",
              "      <td>False</td>\n",
              "    </tr>\n",
              "    <tr>\n",
              "      <th>14989</th>\n",
              "      <td>2</td>\n",
              "      <td>60</td>\n",
              "      <td>265</td>\n",
              "      <td>264</td>\n",
              "      <td>3</td>\n",
              "      <td>1</td>\n",
              "      <td>4</td>\n",
              "      <td>7</td>\n",
              "      <td>2</td>\n",
              "      <td>2</td>\n",
              "      <td>...</td>\n",
              "      <td>False</td>\n",
              "      <td>False</td>\n",
              "      <td>False</td>\n",
              "      <td>False</td>\n",
              "      <td>False</td>\n",
              "      <td>False</td>\n",
              "      <td>False</td>\n",
              "      <td>False</td>\n",
              "      <td>False</td>\n",
              "      <td>False</td>\n",
              "    </tr>\n",
              "    <tr>\n",
              "      <th>14990</th>\n",
              "      <td>2</td>\n",
              "      <td>2</td>\n",
              "      <td>265</td>\n",
              "      <td>266</td>\n",
              "      <td>3</td>\n",
              "      <td>5</td>\n",
              "      <td>6</td>\n",
              "      <td>7</td>\n",
              "      <td>3</td>\n",
              "      <td>2</td>\n",
              "      <td>...</td>\n",
              "      <td>False</td>\n",
              "      <td>False</td>\n",
              "      <td>False</td>\n",
              "      <td>False</td>\n",
              "      <td>False</td>\n",
              "      <td>False</td>\n",
              "      <td>False</td>\n",
              "      <td>False</td>\n",
              "      <td>False</td>\n",
              "      <td>False</td>\n",
              "    </tr>\n",
              "    <tr>\n",
              "      <th>14991</th>\n",
              "      <td>2</td>\n",
              "      <td>9</td>\n",
              "      <td>266</td>\n",
              "      <td>0</td>\n",
              "      <td>2</td>\n",
              "      <td>4</td>\n",
              "      <td>7</td>\n",
              "      <td>0</td>\n",
              "      <td>1</td>\n",
              "      <td>1</td>\n",
              "      <td>...</td>\n",
              "      <td>False</td>\n",
              "      <td>False</td>\n",
              "      <td>False</td>\n",
              "      <td>False</td>\n",
              "      <td>False</td>\n",
              "      <td>False</td>\n",
              "      <td>False</td>\n",
              "      <td>False</td>\n",
              "      <td>False</td>\n",
              "      <td>False</td>\n",
              "    </tr>\n",
              "    <tr>\n",
              "      <th>14992</th>\n",
              "      <td>1</td>\n",
              "      <td>1</td>\n",
              "      <td>307</td>\n",
              "      <td>307</td>\n",
              "      <td>1</td>\n",
              "      <td>2</td>\n",
              "      <td>0</td>\n",
              "      <td>0</td>\n",
              "      <td>2</td>\n",
              "      <td>1</td>\n",
              "      <td>...</td>\n",
              "      <td>False</td>\n",
              "      <td>False</td>\n",
              "      <td>False</td>\n",
              "      <td>False</td>\n",
              "      <td>False</td>\n",
              "      <td>False</td>\n",
              "      <td>False</td>\n",
              "      <td>False</td>\n",
              "      <td>False</td>\n",
              "      <td>False</td>\n",
              "    </tr>\n",
              "  </tbody>\n",
              "</table>\n",
              "<p>14993 rows × 43701 columns</p>\n",
              "</div>"
            ],
            "text/plain": [
              "       Type  Age  Breed1  Breed2  Gender  Color1  Color2  Color3  \\\n",
              "0         2    3     299       0       1       1       7       0   \n",
              "1         2    1     265       0       1       1       2       0   \n",
              "2         1    1     307       0       1       2       7       0   \n",
              "3         1    4     307       0       2       1       2       0   \n",
              "4         1    1     307       0       1       1       0       0   \n",
              "...     ...  ...     ...     ...     ...     ...     ...     ...   \n",
              "14988     2    2     266       0       3       1       0       0   \n",
              "14989     2   60     265     264       3       1       4       7   \n",
              "14990     2    2     265     266       3       5       6       7   \n",
              "14991     2    9     266       0       2       4       7       0   \n",
              "14992     1    1     307     307       1       2       0       0   \n",
              "\n",
              "       MaturitySize  FurLength  ...  PetID_ffe5a0271  PetID_ffe7f0b70  \\\n",
              "0                 1          1  ...            False            False   \n",
              "1                 2          2  ...            False            False   \n",
              "2                 2          2  ...            False            False   \n",
              "3                 2          1  ...            False            False   \n",
              "4                 2          1  ...            False            False   \n",
              "...             ...        ...  ...              ...              ...   \n",
              "14988             2          2  ...            False            False   \n",
              "14989             2          2  ...            False            False   \n",
              "14990             3          2  ...            False            False   \n",
              "14991             1          1  ...            False            False   \n",
              "14992             2          1  ...            False            False   \n",
              "\n",
              "       PetID_ffebad2e7  PetID_ffef9a2af  PetID_fff24fcb5  PetID_fff4a6420  \\\n",
              "0                False            False            False            False   \n",
              "1                False            False            False            False   \n",
              "2                False            False            False            False   \n",
              "3                False            False            False            False   \n",
              "4                False            False            False            False   \n",
              "...                ...              ...              ...              ...   \n",
              "14988            False            False            False            False   \n",
              "14989            False            False            False            False   \n",
              "14990            False            False            False            False   \n",
              "14991            False            False            False            False   \n",
              "14992            False            False            False            False   \n",
              "\n",
              "       PetID_fff6f2f61  PetID_fffa39a6a  PetID_fffd78a11  PetID_fffd9b5a8  \n",
              "0                False            False            False            False  \n",
              "1                False            False            False            False  \n",
              "2                False            False            False            False  \n",
              "3                False            False            False            False  \n",
              "4                False            False            False            False  \n",
              "...                ...              ...              ...              ...  \n",
              "14988            False            False            False            False  \n",
              "14989            False            False            False            False  \n",
              "14990            False            False            False            False  \n",
              "14991            False            False            False            False  \n",
              "14992            False            False            False            False  \n",
              "\n",
              "[14993 rows x 43701 columns]"
            ]
          },
          "execution_count": 17,
          "metadata": {},
          "output_type": "execute_result"
        }
      ],
      "source": [
        "pet_data_enc"
      ]
    },
    {
      "cell_type": "markdown",
      "metadata": {
        "id": "ymSFSp76lgi8"
      },
      "source": [
        "data visualisation"
      ]
    },
    {
      "cell_type": "code",
      "execution_count": 18,
      "metadata": {
        "id": "LcOgORw3itnb"
      },
      "outputs": [],
      "source": [
        "sns.set_style(\"whitegrid\")"
      ]
    },
    {
      "cell_type": "code",
      "execution_count": 19,
      "metadata": {
        "colab": {
          "base_uri": "https://localhost:8080/",
          "height": 410
        },
        "id": "i9fjR09-lopm",
        "outputId": "5326eee1-a44b-4328-baeb-1990e7f4f982"
      },
      "outputs": [
        {
          "data": {
            "image/png": "[encoded data removed]",
            "text/plain": [
              "<Figure size 600x400 with 1 Axes>"
            ]
          },
          "metadata": {},
          "output_type": "display_data"
        }
      ],
      "source": [
        "#visualising the target variable\n",
        "plt.figure(figsize=(6, 4))\n",
        "sns.countplot(x='AdoptionSpeed', data=pet_data_enc)\n",
        "plt.title('Distribution of Adoption Speed')\n",
        "plt.xlabel('Adoption Speed')\n",
        "plt.ylabel('Number of Pets')\n",
        "plt.show()"
      ]
    },
    {
      "cell_type": "code",
      "execution_count": 20,
      "metadata": {
        "colab": {
          "base_uri": "https://localhost:8080/",
          "height": 564
        },
        "id": "kH__nmcll5Oo",
        "outputId": "4e0226d6-2bad-4ade-a4f2-9a62e9a25ada"
      },
      "outputs": [
        {
          "data": {
            "image/png": "[encoded data removed]",
            "text/plain": [
              "<Figure size 1000x600 with 1 Axes>"
            ]
          },
          "metadata": {},
          "output_type": "display_data"
        }
      ],
      "source": [
        "#visualising a numerical feature\n",
        "plt.figure(figsize=(10, 6))\n",
        "sns.histplot(data=pet_data_enc, x='desc_length', bins=50, kde=True)\n",
        "plt.title('Distribution of Description Length')\n",
        "plt.xlabel('Description Length (Characters)')\n",
        "plt.ylabel('Number of Pets')\n",
        "plt.show()"
      ]
    },
    {
      "cell_type": "code",
      "execution_count": 21,
      "metadata": {
        "colab": {
          "base_uri": "https://localhost:8080/",
          "height": 607
        },
        "id": "pm_Gc7jIm3aS",
        "outputId": "c52c5a07-a754-4b80-ccab-1b8ab42a9a60"
      },
      "outputs": [
        {
          "data": {
            "image/png": "[encoded data removed]",
            "text/plain": [
              "<Figure size 1200x600 with 2 Axes>"
            ]
          },
          "metadata": {},
          "output_type": "display_data"
        }
      ],
      "source": [
        "plt.figure(figsize=(12, 6))\n",
        "\n",
        "# Plot the count of pets with and without a name\n",
        "plt.subplot(1, 2, 1) # This creates a chart on the left\n",
        "sns.countplot(x='has_name', data=pet_data_enc)\n",
        "plt.title('Count of Pets with vs. without a Name')\n",
        "plt.xlabel('Has Name (True=Yes, False=No)')\n",
        "plt.ylabel('Number of Pets')\n",
        "\n",
        "# Plot the average AdoptionSpeed for pets with and without a name\n",
        "plt.subplot(1, 2, 2) # This creates a chart on the right\n",
        "sns.barplot(x='has_name', y='AdoptionSpeed', data=pet_data_enc)\n",
        "plt.title('Average Adoption Speed by Name Status')\n",
        "plt.xlabel('Has Name (True=Yes, False=No)')\n",
        "plt.ylabel('Average Adoption Speed')\n",
        "\n",
        "plt.tight_layout() # This makes sure the titles don't overlap\n",
        "plt.show()"
      ]
    },
    {
      "cell_type": "markdown",
      "metadata": {
        "id": "0jtroY4YmF2M"
      },
      "source": [
        "Models to train"
      ]
    },
    {
      "cell_type": "markdown",
      "metadata": {
        "id": "20c67155"
      },
      "source": [
        "Here is the code for the requested regression models:"
      ]
    },
    {
      "cell_type": "markdown",
      "metadata": {
        "id": "6b27edcc"
      },
      "source": [
        "### Linear Regression"
      ]
    },
    {
      "cell_type": "code",
      "execution_count": null,
      "metadata": {
        "id": "68c69974"
      },
      "outputs": [],
      "source": [
        "from sklearn.linear_model import LinearRegression\n",
        "from sklearn.model_selection import train_test_split\n",
        "from sklearn.metrics import mean_absolute_error\n",
        "\n",
        "# Assuming you have your data in a pandas DataFrame called 'pet_data_enc'\n",
        "# and your target variable is 'AdoptionSpeed'\n",
        "\n",
        "# Separate features (X) and target (y)\n",
        "# Drop only the target variable from the encoded dataframe to get the features\n",
        "x = pet_data_enc.drop(columns=['AdoptionSpeed'])\n",
        "y = pet_data_enc['AdoptionSpeed']\n",
        "\n",
        "# Split the data into training and testing sets\n",
        "x_train, x_test, y_train, y_test = train_test_split(x, y, test_size=0.2, random_state=42)\n",
        "\n",
        "# Create the Linear Regression model\n",
        "lr_model = LinearRegression()\n",
        "\n",
        "# Train the model\n",
        "lr_model.fit(x_train, y_train)\n",
        "\n",
        "# Make predictions\n",
        "lr_predictions = lr_model.predict(x_test)\n",
        "\n",
        "# Calculate and print MAE\n",
        "lr_mae = mean_absolute_error(y_test, lr_predictions)\n",
        "print(f\"Linear Regression MAE: {lr_mae:.4f}\\n\")"
      ]
    },
    {
      "cell_type": "markdown",
      "metadata": {
        "id": "8ebdf66c"
      },
      "source": [
        "### Support Vector Machine (SVM) Regressor"
      ]
    },
    {
      "cell_type": "markdown",
      "metadata": {
        "id": "5e001d28"
      },
      "source": [
        "### Decision Tree Regressor"
      ]
    },
    {
      "cell_type": "code",
      "execution_count": null,
      "metadata": {
        "id": "b74d3cd6"
      },
      "outputs": [
        {
          "name": "stdout",
          "output_type": "stream",
          "text": [
            "Decision Tree Regressor MAE: 0.9860\n",
            "\n"
          ]
        }
      ],
      "source": [
        "from sklearn.tree import DecisionTreeRegressor\n",
        "from sklearn.metrics import mean_absolute_error\n",
        "\n",
        "# Create the Decision Tree Regressor model\n",
        "dt_model = DecisionTreeRegressor()\n",
        "\n",
        "# Train the model\n",
        "dt_model.fit(x_train, y_train)\n",
        "\n",
        "# Make predictions\n",
        "dt_predictions = dt_model.predict(x_test)\n",
        "\n",
        "# Calculate and print MAE\n",
        "dt_mae = mean_absolute_error(y_test, dt_predictions)\n",
        "print(f\"Decision Tree Regressor MAE: {dt_mae:.4f}\\n\")"
      ]
    },
    {
      "cell_type": "markdown",
      "metadata": {
        "id": "1109a0ca"
      },
      "source": [
        "### Random Forest Regressor"
      ]
    },
    {
      "cell_type": "code",
      "execution_count": null,
      "metadata": {
        "id": "901b0389"
      },
      "outputs": [
        {
          "name": "stdout",
          "output_type": "stream",
          "text": [
            "Random Forest Regressor MAE: 0.8513\n",
            "\n"
          ]
        }
      ],
      "source": [
        "from sklearn.ensemble import RandomForestRegressor\n",
        "from sklearn.metrics import mean_absolute_error\n",
        "\n",
        "# Create the Random Forest Regressor model\n",
        "rf_model = RandomForestRegressor()\n",
        "\n",
        "# Train the model\n",
        "rf_model.fit(x_train, y_train)\n",
        "\n",
        "# Make predictions\n",
        "rf_predictions = rf_model.predict(x_test)\n",
        "\n",
        "# Calculate and print MAE\n",
        "rf_mae = mean_absolute_error(y_test, rf_predictions)\n",
        "print(f\"Random Forest Regressor MAE: {rf_mae:.4f}\\n\")"
      ]
    },
    {
      "cell_type": "markdown",
      "metadata": {
        "id": "ff45b799"
      },
      "source": [
        "### K-Nearest Neighbors Regressor"
      ]
    },
    {
      "cell_type": "code",
      "execution_count": null,
      "metadata": {
        "id": "4a386005"
      },
      "outputs": [
        {
          "name": "stdout",
          "output_type": "stream",
          "text": [
            "K-Nearest Neighbors Regressor MAE: 0.9960\n",
            "\n"
          ]
        }
      ],
      "source": [
        "from sklearn.neighbors import KNeighborsRegressor\n",
        "from sklearn.metrics import mean_absolute_error\n",
        "\n",
        "# Create the KNN Regressor model\n",
        "# You can adjust the number of neighbors (n_neighbors)\n",
        "knn_model = KNeighborsRegressor(n_neighbors=5)\n",
        "\n",
        "# Train the model\n",
        "knn_model.fit(x_train, y_train)\n",
        "\n",
        "# Make predictions\n",
        "knn_predictions = knn_model.predict(x_test)\n",
        "\n",
        "# Calculate and print MAE\n",
        "knn_mae = mean_absolute_error(y_test, knn_predictions)\n",
        "print(f\"K-Nearest Neighbors Regressor MAE: {knn_mae:.4f}\\n\")"
      ]
    }
  ],
  "metadata": {
    "accelerator": "GPU",
    "colab": {
      "gpuType": "T4",
      "provenance": []
    },
    "kernelspec": {
      "display_name": "venv",
      "language": "python",
      "name": "python3"
    },
    "language_info": {
      "codemirror_mode": {
        "name": "ipython",
        "version": 3
      },
      "file_extension": ".py",
      "mimetype": "text/x-python",
      "name": "python",
      "nbconvert_exporter": "python",
      "pygments_lexer": "ipython3",
      "version": "3.11.8"
    }
  },
  "nbformat": 4,
  "nbformat_minor": 0
}
